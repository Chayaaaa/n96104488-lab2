{
 "cells": [
  {
   "cell_type": "code",
   "execution_count": 2,
   "id": "5d5fe935",
   "metadata": {},
   "outputs": [],
   "source": [
    "import pygame\n",
    "import time\n",
    "\n",
    "#設定初始值\n",
    "pygame.init()\n",
    "WIN_WIDTH = 1024 #視窗大小\n",
    "WIN_HEIGHT = 600\n",
    "FPS = 30 #帪數\n",
    "                                        \n",
    "window = pygame.display.set_mode((WIN_WIDTH,WIN_HEIGHT)) #遊戲名稱\n",
    "pygame.display.set_caption(\"My first game\")\n",
    "clock = pygame.time.Clock()\n",
    "BLACK = (0, 0, 0) #色彩\n",
    "WHITE = (255, 255, 255)\n",
    "RED = (255, 0, 0)\n",
    "\n",
    "#匯入圖檔\n",
    "background_image = pygame.image.load(\"images\\Map.png\")\n",
    "enemy_image = pygame.transform.scale(pygame.image.load(\"images\\enemy.png\"),(40,40))\n",
    "hp_image = pygame.transform.scale(pygame.image.load(\"images\\hp.png\"),(40,40))\n",
    "hp_gray_image = pygame.transform.scale(pygame.image.load(\"images\\hp_gray.png\"),(40,40))\n",
    "muse_image = pygame.transform.scale(pygame.image.load(\"images\\muse.png\"),(70,70))\n",
    "sound_image = pygame.transform.scale(pygame.image.load(\"images\\sound.png\"),(70,70))\n",
    "continue_image = pygame.transform.scale(pygame.image.load(\"images\\continue.png\"),(70,70))\n",
    "pause_image = pygame.transform.scale(pygame.image.load(\"images\\pause.png\"),(70,70))\n",
    "\n",
    "run = True\n",
    "\n",
    "while run:\n",
    "    clock.tick(FPS)\n",
    "    for event in pygame.event.get():\n",
    "        if event.type == pygame.QUIT:\n",
    "            run = False\n",
    "    window.blit(background_image,(0,0)) #建立底圖\n",
    "    window.blit(enemy_image,(30,275)) #插入小兵\n",
    "    pygame.draw.rect(window, RED,[30,270,40,5]) #繪製血條\n",
    "    pygame.draw.rect(window, BLACK,[0,0,1024,80]) \n",
    "    window.blit(hp_image,(420,5)) #插入hp\n",
    "    window.blit(hp_image,(460,5))\n",
    "    window.blit(hp_image,(500,5))\n",
    "    window.blit(hp_image,(540,5))\n",
    "    window.blit(hp_image,(580,5))\n",
    "    window.blit(hp_image,(420,40))\n",
    "    window.blit(hp_image,(460,40))\n",
    "    window.blit(hp_gray_image,(500,40))\n",
    "    window.blit(hp_gray_image,(540,40))\n",
    "    window.blit(hp_gray_image,(580,40))\n",
    "    window.blit(muse_image,(770,10)) #插入控制鍵\n",
    "    window.blit(sound_image,(830,10))\n",
    "    window.blit(continue_image,(890,10))\n",
    "    window.blit(pause_image,(950,10))\n",
    "    pygame.display.update()\n",
    "pygame.quit()\n"
   ]
  },
  {
   "cell_type": "code",
   "execution_count": null,
   "id": "6a1603e4",
   "metadata": {},
   "outputs": [],
   "source": []
  }
 ],
 "metadata": {
  "kernelspec": {
   "display_name": "Python 3",
   "language": "python",
   "name": "python3"
  },
  "language_info": {
   "codemirror_mode": {
    "name": "ipython",
    "version": 3
   },
   "file_extension": ".py",
   "mimetype": "text/x-python",
   "name": "python",
   "nbconvert_exporter": "python",
   "pygments_lexer": "ipython3",
   "version": "3.8.8"
  }
 },
 "nbformat": 4,
 "nbformat_minor": 5
}
